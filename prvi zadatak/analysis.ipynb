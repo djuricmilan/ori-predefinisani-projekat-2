{
 "cells": [
  {
   "cell_type": "markdown",
   "metadata": {
    "collapsed": true
   },
   "source": [
    "## Primjena alternativnih algoritama pri analizi korisnika kreditnih kartica\n",
    "Ovaj dokument služi da opiše klasterizaciju korisnika na osnovu nekoliko alternativnih algoritama (pored algoritma K-Means koji je opisan u fajlu kmeans_analysis.ipybn), prikaže i analizira rezultate tih algoritama i uporedi ih sa algoritmom K-Means.\n",
    "\n",
    "Napomena: Sve analize su urađene analogno analizi K-means algoritma, koristeći po dva grafika koji prikazuju boxplot i srednju vrijednost svakog klastera za svaki atribut."
   ]
  },
  {
   "cell_type": "code",
   "execution_count": null,
   "metadata": {},
   "outputs": [],
   "source": [
    "from data_preprocessing import load_and_preprocess\n",
    "from sklearn.decomposition import PCA\n",
    "from sklearn.cluster import DBSCAN\n",
    "from sklearn.cluster import MeanShift\n",
    "from sklearn.cluster import AgglomerativeClustering\n",
    "from sklearn.cluster import Birch\n",
    "from sklearn.metrics import silhouette_score\n",
    "import matplotlib.pyplot as plt\n",
    "import pandas as pd\n",
    "import seaborn as sb\n",
    "\n",
    "import warnings\n",
    "warnings.filterwarnings(action=\"ignore\")\n",
    "\n",
    "%matplotlib inline\n",
    "\n",
    "original, preprocessed = load_and_preprocess()\n",
    "\n",
    "pca = PCA(n_components=5)\n",
    "reduced_dataframe = pca.fit_transform(preprocessed)"
   ]
  },
  {
   "cell_type": "markdown",
   "metadata": {},
   "source": [
    "## DBSCAN algoritam\n",
    "Za ovaj algoritam potrebna su dva parametra:\n",
    "1. eps - epsilon okolina tačke (vrijednost epsilon izračunata na osnovu računanja udaljenosti svake tačke od njenog najbižeg susjeda)\n",
    "2. min_samples - minimalan broj susjednih tačaka potrebnih da bi se tačka svrstala u tačke jezgra"
   ]
  },
  {
   "cell_type": "code",
   "execution_count": null,
   "metadata": {},
   "outputs": [],
   "source": [
    "alg = DBSCAN(eps=1, min_samples=10)\n",
    "label = alg.fit_predict(reduced_dataframe)\n",
    "\n",
    "fig, ax = plt.subplots()\n",
    "fig.set_size_inches(15, 9)\n",
    "ax.set_title(\"5 clusters according to 5 principle components.\")\n",
    "ax.set_xlabel(\"PC 0\")\n",
    "ax.set_ylabel(\"PC 1\")\n",
    "plt.scatter(reduced_dataframe[:, 0], reduced_dataframe[:, 1], c=label.astype(float))\n",
    "plt.show()"
   ]
  },
  {
   "cell_type": "code",
   "execution_count": null,
   "metadata": {},
   "outputs": [],
   "source": [
    "original['CLUSTER_5'] = label\n",
    "\n",
    "for c in original:\n",
    "    fig, (ax1, ax2) = plt.subplots(1, 2)\n",
    "    fig.set_size_inches(15, 6)\n",
    "    sb.boxplot(x = 'CLUSTER_5', y = c, data=original, ax=ax1)\n",
    "    avg = original.groupby('CLUSTER_5')[c].agg('mean')\n",
    "    avg.plot(ax=ax2, title='mean')\n",
    "    plt.show()"
   ]
  },
  {
   "cell_type": "markdown",
   "metadata": {},
   "source": [
    "## DBSCAN - analiza klastera\n",
    "Ovaj algoritam je pronašao 3 klastera. Na osnovu njihove analize zaključujemo da DBSCAN nije pogodan za korišteni skup podataka, što se može vidjeti i na osnovu grafičkog prikaza klastera.\n",
    "\n",
    "### Klaster 0\n",
    "Klaster 0 karakterišu korisnici koji u velikim količinama troše sredstva sa kartice (visoke vrijednosti parametara *PURCHASES*, *INSTALLMENTS_PURCHASES* i *ONE_OFF_PURCHASES*), a u malim količinama uzimaju novac na zajam (jako mala vrijednost parametra *CASH_ADVANCE*, kao i parametara *BALANCE* i *BALANCE_FREQUENCY*).\n",
    "\n",
    "### Klaster 1\n",
    "Ovaj klaster čine aktivni korisnici korisnici, koji dosta kupuju, ali i u velikoj količini uzimaju novac na zajam. Vrijednosti paraetara koji su vezani za učestalost aktivnosti su visoke, kao i vrijednosti parametaravezanih za kupovinu (*PURCHASES*), uzimanje novca unapred (*CASH_ADVANCE*) i stanje (*BALANCE*).\n",
    "\n",
    "### Klaster 2\n",
    "Klasteru 2 pripadaju pasivni korisnici. Vrijednosti parametara vezanih za kupovinu su veoma niske niske, a takođe i vrijednost parametra *CREDIT_CARD_LIMIT*. Na osnovu nešto viših vrijednosti parametara vezanih za uzimanje novca unapred, može se zaključiti da ovi korisnici više pozajmljuju novac nego što ga troše."
   ]
  },
  {
   "cell_type": "markdown",
   "metadata": {},
   "source": [
    "## Agglomerative algoritam\n",
    "Ovaj algoritam spada u hijerarhijsko klasterovanje (klasteri nastaju spajanjem postojećih klastera i obrazuju strukturu stabla). Algoritmu prosljeđujemo broj klastera koji je određen pomoću PCA, što smo koristili i za K-Means algoritam."
   ]
  },
  {
   "cell_type": "code",
   "execution_count": null,
   "metadata": {},
   "outputs": [],
   "source": [
    "aggloerative = AgglomerativeClustering(n_clusters=5)\n",
    "label = aggloerative.fit_predict(reduced_dataframe)\n",
    "\n",
    "fig, ax = plt.subplots()\n",
    "fig.set_size_inches(15, 9)\n",
    "ax.set_title(\"5 clusters according to 5 principle components.\")\n",
    "ax.set_xlabel(\"PC 0\")\n",
    "ax.set_ylabel(\"PC 1\")\n",
    "plt.scatter(reduced_dataframe[:, 0], reduced_dataframe[:, 1], c=label.astype(float))\n",
    "plt.show()"
   ]
  },
  {
   "cell_type": "code",
   "execution_count": null,
   "metadata": {},
   "outputs": [],
   "source": [
    "original['CLUSTER_5'] = label\n",
    "\n",
    "for c in original:\n",
    "    fig, (ax1, ax2) = plt.subplots(1, 2)\n",
    "    fig.set_size_inches(15, 6)\n",
    "    sb.boxplot(x = 'CLUSTER_5', y = c, data=original, ax=ax1)\n",
    "    avg = original.groupby('CLUSTER_5')[c].agg('mean')\n",
    "    avg.plot(ax=ax2, title='mean')\n",
    "    plt.show()\n",
    "    "
   ]
  },
  {
   "cell_type": "markdown",
   "metadata": {},
   "source": [
    "## Agglomerative algoritam - analiza klastera\n",
    "Rezultat algoritma daje 5 klastera, za koje se može reći da su veoma slični klasterima dobijenim algoritmom K-Means.\n",
    "\n",
    "### Klaster 0\n",
    "Ovaj klaster čine **pasivni korisnici**, kod kojih su vrijednosti većine parametara vezanih za kupovinu, limit kreditne kartice i uzimanje novca unapred jako niske. (slično **Klasteru 0** kod K-Means algoritma)\n",
    "\n",
    "### Klaster 1\n",
    "Ovom klasteru pripadaju **neodgovorni korisnici**, koji imaju jako visoke vrijednosti parametara *BALANCE* i *CASH_ADVANCE*, i veliku učestalost uzimanja novca unapred (*BALANCE_FREQUENCY*, *CASH_ADVANCE_FREQUENCY*). (slično **Klasteru 3** kod K-Means algoritma) \n",
    "\n",
    "### Klaster 2\n",
    "Korisnici koji pripadaju ovom klasteru **uzimaju novac unapred (na zajam) i jako malo troše novac** (imaju najnižu vrijednost parametra *MONTHLY_AVERAGE_PURCHASES*, i visoku vrijednost parametra *MONTHLY_AVERAGE_CASH_ADVANCE*). (slično **Klasteru 1** kod K-Means algoritma) \n",
    "\n",
    "### Klaster 3\n",
    "Ovaj klaster čine **frekventni i odgovorni korisnici**, koji imaju vodeće vrijednost parametara vezanih za kupovinu (*PURCHASES*, *INSTALLMENTS_PURCHASES*, *ONE_OFF_PURCHASES*), učestalost kupovine (*PURCHASES_FREQUENCY*), uplaćivanje (*PAYMENTS*), a niske vrijednosti parametara vezanih za pozajmljivanje novca (*CASH_ADVANCE*). (slično **Klasteru 4** kod K-Means algoritma) \n",
    "\n",
    "### Klaster 4\n",
    "Klaster 1 čine **česti i prosječni korisnici**, koji imaju visoke vrijednosti parametara vezanih za učestalost akcija (npr. *BALANCE_FREQUENCY*), nisku vrijednost parametra *CREDIT_LIMIT* i prosječne vrijednosti većine ostalih parametara. (slično **Klasteru 2** kod K-Means algoritma) \n"
   ]
  },
  {
   "cell_type": "markdown",
   "metadata": {},
   "source": [
    "## BIRCH algoritam\n",
    "Ovaj algoritam takođe spada u hijerarhijsko klasterovanje (Balanced Iterative Reducing and Clustering using Hierarchies) i oslanja se na prethodni algoritam, a njegov značaj je u tome što je prilagođen za klasterovanje velikih skupova podataka. Prosljeđuje se parametar threshold (prag), od kojeg zavisi veličina CF (clustering feature) stabla."
   ]
  },
  {
   "cell_type": "code",
   "execution_count": null,
   "metadata": {},
   "outputs": [],
   "source": [
    "birch = Birch(threshold=0.3)\n",
    "label = birch.fit_predict(reduced_dataframe)\n",
    "\n",
    "fig, ax = plt.subplots()\n",
    "fig.set_size_inches(15, 9)\n",
    "ax.set_title(\"5 clusters according to 5 principle components.\")\n",
    "ax.set_xlabel(\"PC 0\")\n",
    "ax.set_ylabel(\"PC 1\")\n",
    "plt.scatter(reduced_dataframe[:, 0], reduced_dataframe[:, 1], c=label.astype(float))\n",
    "plt.show()\n"
   ]
  },
  {
   "cell_type": "code",
   "execution_count": null,
   "metadata": {},
   "outputs": [],
   "source": [
    "original['CLUSTER_5'] = label\n",
    "\n",
    "for c in original:\n",
    "    fig, (ax1, ax2) = plt.subplots(1, 2)\n",
    "    fig.set_size_inches(15, 6)\n",
    "    sb.boxplot(x = 'CLUSTER_5', y = c, data=original, ax=ax1)\n",
    "    avg = original.groupby('CLUSTER_5')[c].agg('mean')\n",
    "    avg.plot(ax=ax2, title='mean')\n",
    "    plt.show()\n",
    "    "
   ]
  },
  {
   "cell_type": "markdown",
   "metadata": {},
   "source": [
    "## BIRCH algoritam - analiza klastera\n",
    "Pod pretpostavkom da bi ovaj algoritam dao slične rezultate kao prethodni, umjesto 5 klastera sada tražimo 3 klastera (default-na vrijednost broja klastera ove funkcije) radi upoređianja rezultata.\n",
    "\n",
    "### Klaster 0\n",
    "Klaster 0 čine **odgovorni i česti korisnici**, koji imaju visoke vrijednosti parametara *PURCHASES*, *PAYMENT_TO_MIN_PAYMENT_RATIO*, i niske vrijednosti parametara *MONTHLY_AVERAGE_CASH_ADVANCE*, *BALANCE* itd.\n",
    "\n",
    "### Klaster 1\n",
    "Klaster 1 čine **neodgovorni i česti korisnici**, sa visokim vrijednostima parametara *PURCHASES*, *CREDIT_LIMIT*, ali i *CASH_ADVANCE*, *BALANCE_TO_CREDIT_LIMIT_RATIO* itd.\n",
    "\n",
    "### Klaster 2\n",
    "U klaster 2 spadaju **neodgovorni i rijetki korisnici**, kod kojih su parametri vezani za učestalost i kupovinu jako niski (*PURCHASES*), a parametri vezani za pozajmljivanje novca visoki (*CASH_ADVANCE*)."
   ]
  }
 ],
 "metadata": {
  "kernelspec": {
   "display_name": "Python 3",
   "language": "python",
   "name": "python3"
  },
  "language_info": {
   "codemirror_mode": {
    "name": "ipython",
    "version": 3
   },
   "file_extension": ".py",
   "mimetype": "text/x-python",
   "name": "python",
   "nbconvert_exporter": "python",
   "pygments_lexer": "ipython3",
   "version": "3.7.2"
  }
 },
 "nbformat": 4,
 "nbformat_minor": 1
}
